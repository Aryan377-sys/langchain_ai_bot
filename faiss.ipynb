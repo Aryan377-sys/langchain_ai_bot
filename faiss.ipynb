{
 "cells": [
  {
   "cell_type": "markdown",
   "metadata": {},
   "source": [
    "# WORKING"
   ]
  },
  {
   "cell_type": "markdown",
   "metadata": {},
   "source": [
    "### How FAISS Works\n",
    "\n",
    "- #### FAISS provides various methods to store and retrieve embeddings efficiently. The most common technique is IndexFlatL2, which performs a brute-force L2 (Euclidean) distance search efficiently.\n",
    "\n",
    "#### 👉 Basic Steps:\n",
    "\n",
    "- #### Convert Text into Embeddings:\n",
    "    - #### Sentences like \"I love pizza\" are converted into vectors using an embedding model (e.g., OpenAI's text-embedding-ada-002 or SentenceTransformers from Hugging Face).\n",
    "    - #### Example: \"I love pizza\" → [0.4, 0.6, 0.1, 0.8]\n",
    "\n",
    "- #### Store Embeddings in FAISS\n",
    "    - #### FAISS stores these embeddings in a searchable index.\n",
    "\n",
    "- #### Query Search\n",
    "    ##### When you search with \"Pizza is amazing\", its embedding is computed and compared against stored embeddings using a distance metric (like cosine similarity or Euclidean distance)."
   ]
  },
  {
   "cell_type": "code",
   "execution_count": 2,
   "metadata": {},
   "outputs": [
    {
     "name": "stdout",
     "output_type": "stream",
     "text": [
      "Collecting faiss-cpu\n",
      "  Downloading faiss_cpu-1.10.0-cp312-cp312-manylinux_2_28_x86_64.whl.metadata (4.4 kB)\n",
      "Requirement already satisfied: numpy<3.0,>=1.25.0 in ./.venv/lib/python3.12/site-packages (from faiss-cpu) (2.2.3)\n",
      "Requirement already satisfied: packaging in ./.venv/lib/python3.12/site-packages (from faiss-cpu) (24.2)\n",
      "Downloading faiss_cpu-1.10.0-cp312-cp312-manylinux_2_28_x86_64.whl (30.7 MB)\n",
      "\u001b[2K   \u001b[90m━━━━━━━━━━━━━━━━━━━━━━━━━━━━━━━━━━━━━━━━\u001b[0m \u001b[32m30.7/30.7 MB\u001b[0m \u001b[31m28.2 MB/s\u001b[0m eta \u001b[36m0:00:00\u001b[0m00:01\u001b[0m00:01\u001b[0m\n",
      "\u001b[?25hInstalling collected packages: faiss-cpu\n",
      "Successfully installed faiss-cpu-1.10.0\n"
     ]
    }
   ],
   "source": [
    "!pip install faiss-cpu   # or faiss-gpu if you have a GPU\n"
   ]
  },
  {
   "cell_type": "code",
   "execution_count": 3,
   "metadata": {},
   "outputs": [
    {
     "name": "stdout",
     "output_type": "stream",
     "text": [
      "Most similar document index: 2\n"
     ]
    }
   ],
   "source": [
    "import faiss\n",
    "import numpy as np\n",
    "\n",
    "# Example document embeddings (each row represents a sentence embedding)\n",
    "document_vectors = np.array([\n",
    "    [0.1, 0.8, 0.3],  # Embedding for \"I love pizza\"\n",
    "    [0.5, 0.2, 0.9],  # Embedding for \"Pizza is my favorite\"\n",
    "    [0.3, 0.7, 0.2]   # Embedding for another document\n",
    "]).astype(\"float32\")\n",
    "\n",
    "# Create FAISS index using L2 distance\n",
    "index = faiss.IndexFlatL2(3)  # 3D vector space\n",
    "index.add(document_vectors)  # Add documents to index\n",
    "\n",
    "# Query vector (embedding for \"I enjoy eating pizza\")\n",
    "query_vector = np.array([[0.2, 0.75, 0.25]]).astype(\"float32\")\n",
    "\n",
    "# Search for the closest document\n",
    "_, indices = index.search(query_vector, 1)  # Find 1 closest match\n",
    "\n",
    "print(f\"Most similar document index: {indices[0][0]}\")\n"
   ]
  },
  {
   "cell_type": "markdown",
   "metadata": {},
   "source": [
    "## Let's work with a basic Q/A dataset to build a basic Q/A chatbot prototype"
   ]
  },
  {
   "cell_type": "code",
   "execution_count": 4,
   "metadata": {},
   "outputs": [],
   "source": [
    "customer_queries = {\n",
    "\"How do I place an order?\": \"To place an order, browse products, add them to your cart, and proceed to checkout. Enter your shipping and payment details and confirm the order.\",\n",
    "\n",
    "\"Can I modify my order after placing it?\": \"You can modify your order within 30 minutes of placing it by going to 'My Orders' and selecting 'Edit Order'. After this period, modifications may not be possible.\",\n",
    "\n",
    "\"How do I cancel my order?\": \"Go to 'My Orders', select the order, and click 'Cancel'. If the order has already been shipped, you may need to request a return instead.\",\n",
    "\n",
    "\"What payment methods do you accept?\": \"We accept credit/debit cards, UPI, net banking, PayPal, and cash on delivery (COD) for eligible orders.\",\n",
    "\n",
    "\"How do I track my order?\": \"You can track your order by clicking on 'My Orders' and selecting 'Track Order'. You’ll receive a tracking link via email/SMS once it’s shipped.\",\n",
    "\n",
    "\"What is your return policy?\": \"You can return products within 7 days of delivery if they are unused and in original packaging. Refunds are processed within 5-7 business days.\",\n",
    "\n",
    "\"How do I initiate a return?\": \"Go to 'My Orders', select the order, and click on 'Return'. Follow the instructions to schedule a pickup or drop-off.\",\n",
    "\n",
    "\"When will I get my refund?\": \"Refunds for prepaid orders are processed within 5-7 business days after the return is approved. COD orders receive a refund via bank transfer or store credit.\",\n",
    "\n",
    "\"Why is my order delayed?\": \"Order delays can happen due to high demand, weather conditions, or courier service issues. Check 'My Orders' for real-time tracking updates.\",\n",
    "\n",
    "\"Do you offer express delivery?\": \"Yes, we offer express delivery in select locations for an additional fee. Choose 'Express Shipping' at checkout if available.\",\n",
    "\n",
    "\"Can I change my delivery address?\": \"You can change the delivery address before the order is shipped by going to 'My Orders' and selecting 'Edit Address'. Once shipped, address changes are not possible.\",\n",
    "\n",
    "\"What should I do if I receive a damaged product?\": \"If you receive a damaged product, report it within 48 hours by visiting 'My Orders' and selecting 'Report Issue'. You may be eligible for a replacement or refund.\",\n",
    "\n",
    "\"Do you provide international shipping?\": \"Currently, we ship only within [Country Name]. International shipping options will be available soon.\",\n",
    "\n",
    "\"How do I apply a discount code?\": \"Enter your discount code at checkout in the 'Apply Coupon' section. If valid, the discount will be applied to your total amount.\",\n",
    "\n",
    "\"Why was my payment declined?\": \"Payments may be declined due to incorrect details, insufficient funds, or bank restrictions. Try using another payment method or contact your bank.\",\n",
    "\n",
    "\"Can I buy now and pay later?\": \"Yes, we offer 'Buy Now, Pay Later' options through [BNPL Provider]. Choose this option at checkout to pay in installments.\",\n",
    "\n",
    "\"How can I contact customer support?\": \"You can reach our customer support via email at support@example.com, live chat on our website, or by calling our helpline at [phone number].\",\n",
    "}\n"
   ]
  },
  {
   "cell_type": "code",
   "execution_count": 5,
   "metadata": {},
   "outputs": [],
   "source": [
    "questions=[i for i in customer_queries.keys()] # Get all the keys from the dictionary(questions)"
   ]
  },
  {
   "cell_type": "markdown",
   "metadata": {},
   "source": [
    "# get the maximum length of sentences among all in questions\n",
    "- ## helpful to get padding of vector embedding (better for visualizing)"
   ]
  },
  {
   "cell_type": "code",
   "execution_count": 6,
   "metadata": {},
   "outputs": [
    {
     "name": "stderr",
     "output_type": "stream",
     "text": [
      "/workspaces/langchain_ai_bot/.venv/lib/python3.12/site-packages/tqdm/auto.py:21: TqdmWarning: IProgress not found. Please update jupyter and ipywidgets. See https://ipywidgets.readthedocs.io/en/stable/user_install.html\n",
      "  from .autonotebook import tqdm as notebook_tqdm\n"
     ]
    },
    {
     "data": {
      "text/plain": [
       "11"
      ]
     },
     "execution_count": 6,
     "metadata": {},
     "output_type": "execute_result"
    }
   ],
   "source": [
    "from transformers import AutoTokenizer\n",
    "t = AutoTokenizer.from_pretrained(\"bert-base-uncased\")\n",
    "tokenized_sentences = [t.tokenize(se) for se in questions]\n",
    "max_length = max(len(tokens) for tokens in tokenized_sentences)\n",
    "max_length"
   ]
  },
  {
   "cell_type": "markdown",
   "metadata": {},
   "source": [
    "### Encode questions to vector-vector Embedding"
   ]
  },
  {
   "cell_type": "code",
   "execution_count": 7,
   "metadata": {},
   "outputs": [
    {
     "name": "stderr",
     "output_type": "stream",
     "text": [
      "huggingface/tokenizers: The current process just got forked, after parallelism has already been used. Disabling parallelism to avoid deadlocks...\n",
      "To disable this warning, you can either:\n",
      "\t- Avoid using `tokenizers` before the fork if possible\n",
      "\t- Explicitly set the environment variable TOKENIZERS_PARALLELISM=(true | false)\n"
     ]
    },
    {
     "name": "stdout",
     "output_type": "stream",
     "text": [
      "Requirement already satisfied: sentence-transformers in ./.venv/lib/python3.12/site-packages (3.4.1)\n",
      "Requirement already satisfied: transformers<5.0.0,>=4.41.0 in ./.venv/lib/python3.12/site-packages (from sentence-transformers) (4.48.3)\n",
      "Requirement already satisfied: tqdm in ./.venv/lib/python3.12/site-packages (from sentence-transformers) (4.67.1)\n",
      "Requirement already satisfied: torch>=1.11.0 in ./.venv/lib/python3.12/site-packages (from sentence-transformers) (2.6.0)\n",
      "Requirement already satisfied: scikit-learn in ./.venv/lib/python3.12/site-packages (from sentence-transformers) (1.6.1)\n",
      "Requirement already satisfied: scipy in ./.venv/lib/python3.12/site-packages (from sentence-transformers) (1.15.1)\n",
      "Requirement already satisfied: huggingface-hub>=0.20.0 in ./.venv/lib/python3.12/site-packages (from sentence-transformers) (0.28.1)\n",
      "Requirement already satisfied: Pillow in ./.venv/lib/python3.12/site-packages (from sentence-transformers) (11.1.0)\n",
      "Requirement already satisfied: filelock in ./.venv/lib/python3.12/site-packages (from huggingface-hub>=0.20.0->sentence-transformers) (3.17.0)\n",
      "Requirement already satisfied: fsspec>=2023.5.0 in ./.venv/lib/python3.12/site-packages (from huggingface-hub>=0.20.0->sentence-transformers) (2025.2.0)\n",
      "Requirement already satisfied: packaging>=20.9 in ./.venv/lib/python3.12/site-packages (from huggingface-hub>=0.20.0->sentence-transformers) (24.2)\n",
      "Requirement already satisfied: pyyaml>=5.1 in ./.venv/lib/python3.12/site-packages (from huggingface-hub>=0.20.0->sentence-transformers) (6.0.2)\n",
      "Requirement already satisfied: requests in ./.venv/lib/python3.12/site-packages (from huggingface-hub>=0.20.0->sentence-transformers) (2.32.3)\n",
      "Requirement already satisfied: typing-extensions>=3.7.4.3 in ./.venv/lib/python3.12/site-packages (from huggingface-hub>=0.20.0->sentence-transformers) (4.12.2)\n",
      "Requirement already satisfied: networkx in ./.venv/lib/python3.12/site-packages (from torch>=1.11.0->sentence-transformers) (3.4.2)\n",
      "Requirement already satisfied: jinja2 in ./.venv/lib/python3.12/site-packages (from torch>=1.11.0->sentence-transformers) (3.1.5)\n",
      "Requirement already satisfied: nvidia-cuda-nvrtc-cu12==12.4.127 in ./.venv/lib/python3.12/site-packages (from torch>=1.11.0->sentence-transformers) (12.4.127)\n",
      "Requirement already satisfied: nvidia-cuda-runtime-cu12==12.4.127 in ./.venv/lib/python3.12/site-packages (from torch>=1.11.0->sentence-transformers) (12.4.127)\n",
      "Requirement already satisfied: nvidia-cuda-cupti-cu12==12.4.127 in ./.venv/lib/python3.12/site-packages (from torch>=1.11.0->sentence-transformers) (12.4.127)\n",
      "Requirement already satisfied: nvidia-cudnn-cu12==9.1.0.70 in ./.venv/lib/python3.12/site-packages (from torch>=1.11.0->sentence-transformers) (9.1.0.70)\n",
      "Requirement already satisfied: nvidia-cublas-cu12==12.4.5.8 in ./.venv/lib/python3.12/site-packages (from torch>=1.11.0->sentence-transformers) (12.4.5.8)\n",
      "Requirement already satisfied: nvidia-cufft-cu12==11.2.1.3 in ./.venv/lib/python3.12/site-packages (from torch>=1.11.0->sentence-transformers) (11.2.1.3)\n",
      "Requirement already satisfied: nvidia-curand-cu12==10.3.5.147 in ./.venv/lib/python3.12/site-packages (from torch>=1.11.0->sentence-transformers) (10.3.5.147)\n",
      "Requirement already satisfied: nvidia-cusolver-cu12==11.6.1.9 in ./.venv/lib/python3.12/site-packages (from torch>=1.11.0->sentence-transformers) (11.6.1.9)\n",
      "Requirement already satisfied: nvidia-cusparse-cu12==12.3.1.170 in ./.venv/lib/python3.12/site-packages (from torch>=1.11.0->sentence-transformers) (12.3.1.170)\n",
      "Requirement already satisfied: nvidia-cusparselt-cu12==0.6.2 in ./.venv/lib/python3.12/site-packages (from torch>=1.11.0->sentence-transformers) (0.6.2)\n",
      "Requirement already satisfied: nvidia-nccl-cu12==2.21.5 in ./.venv/lib/python3.12/site-packages (from torch>=1.11.0->sentence-transformers) (2.21.5)\n",
      "Requirement already satisfied: nvidia-nvtx-cu12==12.4.127 in ./.venv/lib/python3.12/site-packages (from torch>=1.11.0->sentence-transformers) (12.4.127)\n",
      "Requirement already satisfied: nvidia-nvjitlink-cu12==12.4.127 in ./.venv/lib/python3.12/site-packages (from torch>=1.11.0->sentence-transformers) (12.4.127)\n",
      "Requirement already satisfied: triton==3.2.0 in ./.venv/lib/python3.12/site-packages (from torch>=1.11.0->sentence-transformers) (3.2.0)\n",
      "Requirement already satisfied: setuptools in ./.venv/lib/python3.12/site-packages (from torch>=1.11.0->sentence-transformers) (75.8.0)\n",
      "Requirement already satisfied: sympy==1.13.1 in ./.venv/lib/python3.12/site-packages (from torch>=1.11.0->sentence-transformers) (1.13.1)\n",
      "Requirement already satisfied: mpmath<1.4,>=1.1.0 in ./.venv/lib/python3.12/site-packages (from sympy==1.13.1->torch>=1.11.0->sentence-transformers) (1.3.0)\n",
      "Requirement already satisfied: numpy>=1.17 in ./.venv/lib/python3.12/site-packages (from transformers<5.0.0,>=4.41.0->sentence-transformers) (2.2.3)\n",
      "Requirement already satisfied: regex!=2019.12.17 in ./.venv/lib/python3.12/site-packages (from transformers<5.0.0,>=4.41.0->sentence-transformers) (2024.11.6)\n",
      "Requirement already satisfied: tokenizers<0.22,>=0.21 in ./.venv/lib/python3.12/site-packages (from transformers<5.0.0,>=4.41.0->sentence-transformers) (0.21.0)\n",
      "Requirement already satisfied: safetensors>=0.4.1 in ./.venv/lib/python3.12/site-packages (from transformers<5.0.0,>=4.41.0->sentence-transformers) (0.5.2)\n",
      "Requirement already satisfied: joblib>=1.2.0 in ./.venv/lib/python3.12/site-packages (from scikit-learn->sentence-transformers) (1.4.2)\n",
      "Requirement already satisfied: threadpoolctl>=3.1.0 in ./.venv/lib/python3.12/site-packages (from scikit-learn->sentence-transformers) (3.5.0)\n",
      "Requirement already satisfied: MarkupSafe>=2.0 in ./.venv/lib/python3.12/site-packages (from jinja2->torch>=1.11.0->sentence-transformers) (3.0.2)\n",
      "Requirement already satisfied: charset-normalizer<4,>=2 in ./.venv/lib/python3.12/site-packages (from requests->huggingface-hub>=0.20.0->sentence-transformers) (3.4.1)\n",
      "Requirement already satisfied: idna<4,>=2.5 in ./.venv/lib/python3.12/site-packages (from requests->huggingface-hub>=0.20.0->sentence-transformers) (3.10)\n",
      "Requirement already satisfied: urllib3<3,>=1.21.1 in ./.venv/lib/python3.12/site-packages (from requests->huggingface-hub>=0.20.0->sentence-transformers) (2.3.0)\n",
      "Requirement already satisfied: certifi>=2017.4.17 in ./.venv/lib/python3.12/site-packages (from requests->huggingface-hub>=0.20.0->sentence-transformers) (2025.1.31)\n"
     ]
    }
   ],
   "source": [
    "!pip install sentence-transformers"
   ]
  },
  {
   "cell_type": "code",
   "execution_count": 8,
   "metadata": {},
   "outputs": [
    {
     "data": {
      "text/plain": [
       "array([[-0.00525271, -0.00277411,  0.00439008, ...,  0.05966293,\n",
       "        -0.00959073, -0.03116939],\n",
       "       [-0.01255482,  0.02828169,  0.03745552, ..., -0.05449414,\n",
       "         0.0244373 , -0.05462256],\n",
       "       [-0.0098854 ,  0.059414  ,  0.07196154, ..., -0.00860798,\n",
       "        -0.04153501, -0.06529608],\n",
       "       ...,\n",
       "       [ 0.03389939,  0.11285318,  0.09194537, ..., -0.06230308,\n",
       "        -0.03781408, -0.02075071],\n",
       "       [-0.01548824, -0.00544531, -0.00193918, ..., -0.09687743,\n",
       "         0.07747193, -0.05970661],\n",
       "       [-0.06125688,  0.0057992 ,  0.05149609, ..., -0.00036166,\n",
       "        -0.00158964, -0.00253615]], shape=(17, 384), dtype=float32)"
      ]
     },
     "execution_count": 8,
     "metadata": {},
     "output_type": "execute_result"
    }
   ],
   "source": [
    "from sentence_transformers import SentenceTransformer, util\n",
    "model = SentenceTransformer('all-MiniLM-L6-v2')\n",
    "\n",
    "\n",
    "# You can do it using library \n",
    "# Embeddings = model.encode(questions, \n",
    "#                           convert_to_numpy=True,  # Get NumPy output\n",
    "#                           normalize_embeddings=True,  # Normalize the output\n",
    "#                             show_progress_bar=True)  # Show progress\n",
    "\n",
    "## If you want to do it manually\n",
    "encoded_questions = model.encode(questions, \n",
    "                           convert_to_numpy=True, \n",
    "                            normalize_embeddings=True ) # Normalize for better similarity (some tokens might have higher value commpared to others in vector space so we normalize it)\n",
    "encoded_questions\n"
   ]
  },
  {
   "cell_type": "markdown",
   "metadata": {},
   "source": [
    "# Provide questions from user and finding similarity with given questions in our dataset to fetch answer"
   ]
  },
  {
   "cell_type": "markdown",
   "metadata": {},
   "source": [
    "## Fetching question from user and encoding it in vector"
   ]
  },
  {
   "cell_type": "code",
   "execution_count": 9,
   "metadata": {},
   "outputs": [
    {
     "data": {
      "text/plain": [
       "array([[-4.42839824e-02,  5.39841689e-02,  1.00228071e-01,\n",
       "         3.79077978e-02, -5.60873076e-02, -5.90652041e-03,\n",
       "         5.44565506e-02, -7.84180835e-02,  9.31056142e-02,\n",
       "         6.50185645e-02,  5.15615307e-02,  6.06659427e-02,\n",
       "        -1.61820650e-02, -8.19350258e-02, -1.07381471e-01,\n",
       "        -2.72736251e-02, -8.57131556e-03,  5.02477475e-02,\n",
       "        -7.20677748e-02,  1.05813025e-02, -3.60664092e-02,\n",
       "         7.78846219e-02, -9.57318302e-03,  4.91333604e-02,\n",
       "         7.72515982e-02, -1.32186562e-02, -7.67742172e-02,\n",
       "         4.55384552e-02, -2.08106376e-02, -7.61239678e-02,\n",
       "         6.65588130e-04,  1.26025686e-02,  7.84345493e-02,\n",
       "        -1.88098382e-02, -4.62053679e-02, -5.81834130e-02,\n",
       "        -4.96258624e-02, -5.81564419e-02,  3.59378681e-02,\n",
       "        -2.83714645e-02, -2.12047230e-02, -1.16445206e-03,\n",
       "        -2.72603761e-02, -7.33287409e-02, -6.22065738e-03,\n",
       "         1.56951230e-02, -4.44557443e-02,  1.62821170e-02,\n",
       "         8.09194371e-02,  6.73385113e-02,  2.63451543e-02,\n",
       "        -5.04660420e-02, -1.21934190e-01,  3.18065770e-02,\n",
       "         1.53875249e-02,  4.49836589e-02,  5.59841171e-02,\n",
       "         1.80375818e-02, -3.18061225e-02,  4.56429869e-02,\n",
       "        -2.14666175e-03, -6.78291870e-03, -1.24410346e-01,\n",
       "         5.35019189e-02,  1.39563670e-02,  7.36308545e-02,\n",
       "        -1.32097071e-02, -3.84940207e-02, -1.57549437e-02,\n",
       "         1.39819493e-03,  5.68394624e-02, -5.36428429e-02,\n",
       "         4.67480421e-02,  6.31213784e-02, -3.48133259e-02,\n",
       "         7.70543143e-02,  4.88472804e-02, -1.96895190e-02,\n",
       "        -3.65102664e-02,  8.55928138e-02, -9.19292420e-02,\n",
       "        -1.21196061e-01, -3.27972136e-03, -2.35838611e-02,\n",
       "         5.83868921e-02, -2.48727202e-02,  2.25351714e-02,\n",
       "         5.08249775e-02,  3.48700173e-02, -1.32878707e-03,\n",
       "        -7.27812201e-03,  2.35812292e-02,  7.02891648e-02,\n",
       "        -3.53857465e-02, -4.15347740e-02, -1.29925255e-02,\n",
       "         5.82679361e-02, -2.32962389e-02, -8.87233913e-02,\n",
       "         1.21946916e-01,  4.24679890e-02,  2.60266084e-02,\n",
       "        -8.33277479e-02, -4.47055399e-02,  1.00181885e-02,\n",
       "        -5.38640656e-02, -4.15162109e-02,  1.10079916e-02,\n",
       "        -3.61322314e-02, -5.47588393e-02, -7.29921758e-02,\n",
       "        -1.46485204e-02,  3.99538763e-02, -1.57594141e-02,\n",
       "        -5.63654527e-02,  1.23894952e-01,  5.65109998e-02,\n",
       "         5.62931001e-02,  7.59048611e-02, -1.95649117e-01,\n",
       "        -2.72733439e-02,  6.08330444e-02,  6.89399196e-03,\n",
       "         6.77090976e-03, -4.17549945e-02, -2.75235083e-02,\n",
       "         8.28957036e-02, -1.80970312e-33, -7.48920590e-02,\n",
       "        -4.70686257e-02,  6.07316010e-03, -6.96332529e-02,\n",
       "         9.93132889e-02,  2.37569828e-02,  1.60098262e-02,\n",
       "        -1.54852439e-02, -2.06160806e-02,  9.82135683e-02,\n",
       "        -3.36857364e-02, -2.86668967e-02,  4.40230034e-02,\n",
       "        -3.00457720e-02, -8.98246765e-02, -5.04979901e-02,\n",
       "         1.04053445e-01,  6.29426315e-02, -2.26802193e-03,\n",
       "        -1.26727121e-02,  6.08998723e-02, -2.76385527e-02,\n",
       "        -3.52427848e-02,  4.81124595e-02,  1.28882183e-02,\n",
       "        -2.93168388e-02, -4.91943732e-02,  1.29031027e-02,\n",
       "         4.36738208e-02,  1.35554769e-03, -1.82341542e-02,\n",
       "         7.93384534e-05,  2.74547394e-02,  5.84165156e-02,\n",
       "        -2.42537986e-02,  6.55576470e-04, -1.14159298e-03,\n",
       "        -2.70304866e-02,  3.56056429e-02, -5.60804233e-02,\n",
       "        -2.15743035e-02,  4.16006893e-02, -1.48187339e-01,\n",
       "        -4.16410230e-02,  3.45457345e-02, -2.10071653e-02,\n",
       "         4.61243838e-02, -4.89872284e-02,  9.01890993e-02,\n",
       "        -8.67161900e-03, -1.75661948e-02,  2.93453746e-02,\n",
       "        -1.37505839e-02,  1.11099528e-02, -1.57207251e-02,\n",
       "        -5.94829768e-02,  6.02617338e-02, -3.16907726e-02,\n",
       "        -2.11086068e-02, -6.06717505e-02,  7.86402076e-02,\n",
       "         1.30647290e-02, -2.45321244e-02,  5.95259946e-03,\n",
       "        -8.71772692e-02, -7.72979185e-02, -5.33913448e-02,\n",
       "        -8.98547620e-02, -3.82054895e-02, -5.70632219e-02,\n",
       "         9.02801380e-03,  4.61504683e-02,  9.91761908e-02,\n",
       "         9.03874822e-03, -2.15117689e-02,  1.08631924e-02,\n",
       "        -5.63794151e-02, -3.38550424e-03,  6.12160191e-02,\n",
       "        -2.19945163e-02,  4.27723937e-02,  2.87641082e-02,\n",
       "        -1.89415310e-02,  4.17937115e-02,  7.51016960e-02,\n",
       "         6.28988445e-02,  3.52823660e-02,  3.55492570e-02,\n",
       "         2.99593024e-02,  3.12351827e-02, -1.04233056e-01,\n",
       "        -4.05946970e-02,  6.52512386e-02,  8.60492960e-02,\n",
       "         8.33564252e-02,  1.70764266e-33, -3.67883965e-02,\n",
       "         2.81021022e-03, -7.16926679e-02,  2.16605440e-05,\n",
       "        -8.95025209e-03,  1.39114226e-03, -1.39943026e-02,\n",
       "        -1.98629685e-04,  3.96843106e-02, -3.15773785e-02,\n",
       "         5.70755042e-02,  7.64871761e-02,  1.00958079e-01,\n",
       "         2.51382757e-02,  9.90500450e-02,  3.32737761e-03,\n",
       "         1.16785318e-01,  1.46959564e-02, -6.71574771e-02,\n",
       "         8.67025927e-03, -5.49821481e-02, -2.59748790e-02,\n",
       "         1.56418737e-02, -2.18064487e-02, -4.67667095e-02,\n",
       "         9.89266112e-03,  2.10333690e-02,  6.23554811e-02,\n",
       "        -1.11055812e-02, -2.05257721e-02,  4.56225015e-02,\n",
       "        -3.57049331e-02,  1.88755896e-02,  5.88499531e-02,\n",
       "         6.57564327e-02,  1.36752669e-02,  4.52647405e-03,\n",
       "         8.17811415e-02, -4.60434034e-02,  3.98025326e-02,\n",
       "         7.40528256e-02, -1.06354794e-02,  1.88305918e-02,\n",
       "         1.90141033e-02, -1.51837468e-02, -3.26777995e-02,\n",
       "         4.69346754e-02, -6.78018928e-02, -3.81056219e-02,\n",
       "         1.18575096e-02, -9.06690359e-02,  3.00627090e-02,\n",
       "         9.94551834e-03,  3.01011223e-02,  2.93884799e-03,\n",
       "         4.38433588e-02,  6.39284775e-02,  6.01860555e-03,\n",
       "         7.65124187e-02, -3.90171632e-02,  5.58254682e-03,\n",
       "         5.42056412e-02,  1.00101337e-01, -4.47313562e-02,\n",
       "         4.12139632e-02,  8.29434171e-02,  4.27452102e-03,\n",
       "         4.55949828e-02,  4.24328670e-02, -1.93743762e-02,\n",
       "        -4.26548123e-02,  1.26099465e-02, -6.51666243e-03,\n",
       "         6.55271932e-02,  8.84606168e-02, -4.58085872e-02,\n",
       "        -1.15369670e-02, -2.42468249e-03, -2.08883379e-02,\n",
       "        -2.02403199e-02,  6.23111427e-02,  1.90970600e-02,\n",
       "         4.16257679e-02,  9.33621898e-02, -9.54826549e-02,\n",
       "         1.76351145e-02, -4.08197716e-02,  4.95507615e-03,\n",
       "        -7.27245584e-03,  3.87395248e-02,  2.05650646e-02,\n",
       "        -2.75178626e-02,  3.87145057e-02, -1.93197820e-02,\n",
       "         6.39155321e-03, -1.08193365e-08,  8.96493532e-03,\n",
       "        -9.41186100e-02,  1.50593519e-01,  1.97455403e-03,\n",
       "         5.09167984e-02, -9.17170569e-02, -9.73435957e-03,\n",
       "         5.43715321e-02, -4.99588028e-02, -3.89086865e-02,\n",
       "         8.31698440e-03,  4.13276665e-02,  1.00585371e-02,\n",
       "        -4.07254025e-02, -2.85360347e-02, -4.26264927e-02,\n",
       "         1.90900955e-02, -4.22221720e-02, -2.07826607e-02,\n",
       "        -1.05950525e-02, -4.61230427e-02, -1.48417158e-02,\n",
       "         6.37184903e-02, -5.86088561e-02,  1.57670099e-02,\n",
       "        -1.16624823e-02,  4.54625823e-02,  5.32058962e-02,\n",
       "         4.50767763e-02,  2.11987179e-03, -2.08529457e-03,\n",
       "         2.43474133e-02,  4.94003855e-03,  5.93466265e-03,\n",
       "        -7.59645551e-02, -8.24722871e-02,  1.78314913e-02,\n",
       "        -2.89081875e-02,  2.42110016e-03, -1.36886518e-02,\n",
       "        -1.10691730e-02, -1.84710175e-02, -4.92524542e-03,\n",
       "         3.33618708e-02,  4.75793853e-02, -2.84188520e-03,\n",
       "        -2.10258681e-02, -1.21495210e-01, -1.88790783e-02,\n",
       "         1.20573770e-02, -3.65931764e-02, -1.92002335e-03,\n",
       "         5.48222438e-02,  3.27723548e-02, -1.16711005e-03,\n",
       "        -4.29855175e-02,  1.71731773e-03, -1.75291486e-02,\n",
       "        -5.94946332e-02,  7.32166395e-02,  3.09078172e-02,\n",
       "        -5.20615950e-02, -3.12358048e-02, -7.65536726e-02]], dtype=float32)"
      ]
     },
     "execution_count": 9,
     "metadata": {},
     "output_type": "execute_result"
    }
   ],
   "source": [
    "user_questions=input(\"Enter Your question: \") # Get the user question\n",
    "encoded_user_questions= model.encode(user_questions, \n",
    "                           padding='max_length',  \n",
    "                           truncation=True, \n",
    "                           max_length=max_length, \n",
    "                           return_tensors=\"pt\").reshape(1,-1)   # cosine_similarity() requires 2D input. So, reshaping it to 2D\n",
    "encoded_user_questions\n"
   ]
  },
  {
   "cell_type": "markdown",
   "metadata": {},
   "source": [
    "# Cosine Similarity"
   ]
  },
  {
   "cell_type": "code",
   "execution_count": 11,
   "metadata": {},
   "outputs": [
    {
     "name": "stdout",
     "output_type": "stream",
     "text": [
      "Cosine Similarity: 0.45\n",
      "Question that matches it is : How do I cancel my order?\n",
      "Question that matches it is : How do I cancel my order?\n",
      " Answer to it is: Go to 'My Orders', select the order, and click 'Cancel'.\n",
      " If the order has already been shipped, you may need to request a return instead.\n",
      "\n"
     ]
    }
   ],
   "source": [
    "\n",
    "from sklearn.metrics.pairwise import cosine_similarity\n",
    "\n",
    "# Load pre-trained model\n",
    "model = SentenceTransformer(\"all-MiniLM-L6-v2\")\n",
    "\n",
    "# Compute similarity with all   query in our dataset\n",
    "similarity = cosine_similarity(encoded_user_questions,encoded_questions)\n",
    "most_similar_idx = np.argmax(similarity)\n",
    "print(f\"Cosine Similarity: {similarity[0][0]:.2f}\")\n",
    "print(f'Question that matches it is : {questions[most_similar_idx]}')\n",
    "print(f'Question that matches it is : {questions[most_similar_idx]}\\n Answer to it is: {(customer_queries[questions[most_similar_idx]]).replace('.','.\\n')}')"
   ]
  },
  {
   "cell_type": "markdown",
   "metadata": {},
   "source": [
    "<!-- How FAISS Works\n",
    "\n",
    "FAISS provides various methods to store and retrieve embeddings efficiently. The most common technique is IndexFlatL2, which performs a brute-force L2 (Euclidean) distance search efficiently.\n",
    "\n",
    "👉 Basic Steps:\n",
    "\n",
    "    Convert Text into Embeddings\n",
    "        Sentences like \"I love pizza\" are converted into vectors using an embedding model (e.g., OpenAI's text-embedding-ada-002 or SentenceTransformers from Hugging Face).\n",
    "        Example: \"I love pizza\" → [0.4, 0.6, 0.1, 0.8]\n",
    "\n",
    "    Store Embeddings in FAISS\n",
    "        FAISS stores these embeddings in a searchable index.\n",
    "\n",
    "    Query Search\n",
    "        When you search with \"Pizza is amazing\", its embedding is computed and compared against stored embeddings using a distance metric (like cosine similarity or Euclidean distance). -->"
   ]
  }
 ],
 "metadata": {
  "kernelspec": {
   "display_name": ".venv",
   "language": "python",
   "name": "python3"
  },
  "language_info": {
   "codemirror_mode": {
    "name": "ipython",
    "version": 3
   },
   "file_extension": ".py",
   "mimetype": "text/x-python",
   "name": "python",
   "nbconvert_exporter": "python",
   "pygments_lexer": "ipython3",
   "version": "3.12.1"
  }
 },
 "nbformat": 4,
 "nbformat_minor": 2
}
